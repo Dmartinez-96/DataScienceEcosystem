{
 "cells": [
  {
   "cell_type": "markdown",
   "metadata": {},
   "source": [
    "<p style=\"text-align:center\">\n",
    "    <a href=\"https://skills.network\" target=\"_blank\">\n",
    "    <img src=\"https://cf-courses-data.s3.us.cloud-object-storage.appdomain.cloud/assets/logos/SN_web_lightmode.png\" width=\"200\" alt=\"Skills Network Logo\">\n",
    "    </a>\n",
    "</p>\n"
   ]
  },
  {
   "cell_type": "markdown",
   "metadata": {},
   "source": [
    "# **Space X  Falcon 9 First Stage Landing Prediction**\n"
   ]
  },
  {
   "cell_type": "markdown",
   "metadata": {},
   "source": [
    "## Web scraping Falcon 9 and Falcon Heavy Launches Records from Wikipedia\n"
   ]
  },
  {
   "cell_type": "markdown",
   "metadata": {},
   "source": [
    "Estimated time needed: **40** minutes\n"
   ]
  },
  {
   "cell_type": "markdown",
   "metadata": {},
   "source": [
    "In this lab, you will be performing web scraping to collect Falcon 9 historical launch records from a Wikipedia page titled `List of Falcon 9 and Falcon Heavy launches`\n",
    "\n",
    "https://en.wikipedia.org/wiki/List_of_Falcon_9_and_Falcon_Heavy_launches\n"
   ]
  },
  {
   "cell_type": "markdown",
   "metadata": {},
   "source": [
    "![](https://cf-courses-data.s3.us.cloud-object-storage.appdomain.cloud/IBM-DS0321EN-SkillsNetwork/labs/module_1_L2/images/Falcon9_rocket_family.svg)\n"
   ]
  },
  {
   "cell_type": "markdown",
   "metadata": {},
   "source": [
    "Falcon 9 first stage will land successfully\n"
   ]
  },
  {
   "cell_type": "markdown",
   "metadata": {},
   "source": [
    "![](https://cf-courses-data.s3.us.cloud-object-storage.appdomain.cloud/IBMDeveloperSkillsNetwork-DS0701EN-SkillsNetwork/api/Images/landing_1.gif)\n"
   ]
  },
  {
   "cell_type": "markdown",
   "metadata": {},
   "source": [
    "Several examples of an unsuccessful landing are shown here:\n"
   ]
  },
  {
   "cell_type": "markdown",
   "metadata": {},
   "source": [
    "![](https://cf-courses-data.s3.us.cloud-object-storage.appdomain.cloud/IBMDeveloperSkillsNetwork-DS0701EN-SkillsNetwork/api/Images/crash.gif)\n"
   ]
  },
  {
   "cell_type": "markdown",
   "metadata": {},
   "source": [
    "More specifically, the launch records are stored in a HTML table shown below:\n"
   ]
  },
  {
   "cell_type": "markdown",
   "metadata": {},
   "source": [
    "![](https://cf-courses-data.s3.us.cloud-object-storage.appdomain.cloud/IBM-DS0321EN-SkillsNetwork/labs/module_1_L2/images/falcon9-launches-wiki.png)\n"
   ]
  },
  {
   "cell_type": "markdown",
   "metadata": {},
   "source": [
    "  ## Objectives\n",
    "Web scrap Falcon 9 launch records with `BeautifulSoup`: \n",
    "- Extract a Falcon 9 launch records HTML table from Wikipedia\n",
    "- Parse the table and convert it into a Pandas data frame\n"
   ]
  },
  {
   "cell_type": "markdown",
   "metadata": {},
   "source": [
    "First let's import required packages for this lab\n"
   ]
  },
  {
   "cell_type": "code",
   "execution_count": 1,
   "metadata": {
    "tags": []
   },
   "outputs": [
    {
     "name": "stdout",
     "output_type": "stream",
     "text": [
      "Requirement already satisfied: beautifulsoup4 in /home/jupyterlab/conda/envs/python/lib/python3.7/site-packages (4.11.1)\n",
      "Requirement already satisfied: soupsieve>1.2 in /home/jupyterlab/conda/envs/python/lib/python3.7/site-packages (from beautifulsoup4) (2.3.2.post1)\n",
      "Requirement already satisfied: requests in /home/jupyterlab/conda/envs/python/lib/python3.7/site-packages (2.29.0)\n",
      "Requirement already satisfied: charset-normalizer<4,>=2 in /home/jupyterlab/conda/envs/python/lib/python3.7/site-packages (from requests) (3.1.0)\n",
      "Requirement already satisfied: idna<4,>=2.5 in /home/jupyterlab/conda/envs/python/lib/python3.7/site-packages (from requests) (3.4)\n",
      "Requirement already satisfied: urllib3<1.27,>=1.21.1 in /home/jupyterlab/conda/envs/python/lib/python3.7/site-packages (from requests) (1.26.15)\n",
      "Requirement already satisfied: certifi>=2017.4.17 in /home/jupyterlab/conda/envs/python/lib/python3.7/site-packages (from requests) (2023.5.7)\n"
     ]
    }
   ],
   "source": [
    "!pip3 install beautifulsoup4\n",
    "!pip3 install requests"
   ]
  },
  {
   "cell_type": "code",
   "execution_count": 2,
   "metadata": {
    "tags": []
   },
   "outputs": [],
   "source": [
    "import sys\n",
    "\n",
    "import requests\n",
    "from bs4 import BeautifulSoup\n",
    "import re\n",
    "import unicodedata\n",
    "import pandas as pd"
   ]
  },
  {
   "cell_type": "markdown",
   "metadata": {},
   "source": [
    "and we will provide some helper functions for you to process web scraped HTML table\n"
   ]
  },
  {
   "cell_type": "code",
   "execution_count": 3,
   "metadata": {
    "tags": []
   },
   "outputs": [],
   "source": [
    "def date_time(table_cells):\n",
    "    \"\"\"\n",
    "    This function returns the data and time from the HTML  table cell\n",
    "    Input: the  element of a table data cell extracts extra row\n",
    "    \"\"\"\n",
    "    return [data_time.strip() for data_time in list(table_cells.strings)][0:2]\n",
    "\n",
    "def booster_version(table_cells):\n",
    "    \"\"\"\n",
    "    This function returns the booster version from the HTML  table cell \n",
    "    Input: the  element of a table data cell extracts extra row\n",
    "    \"\"\"\n",
    "    out=''.join([booster_version for i,booster_version in enumerate( table_cells.strings) if i%2==0][0:-1])\n",
    "    return out\n",
    "\n",
    "def landing_status(table_cells):\n",
    "    \"\"\"\n",
    "    This function returns the landing status from the HTML table cell \n",
    "    Input: the  element of a table data cell extracts extra row\n",
    "    \"\"\"\n",
    "    out=[i for i in table_cells.strings][0]\n",
    "    return out\n",
    "\n",
    "\n",
    "def get_mass(table_cells):\n",
    "    mass=unicodedata.normalize(\"NFKD\", table_cells.text).strip()\n",
    "    if mass:\n",
    "        mass.find(\"kg\")\n",
    "        new_mass=mass[0:mass.find(\"kg\")+2]\n",
    "    else:\n",
    "        new_mass=0\n",
    "    return new_mass\n",
    "\n",
    "\n",
    "def extract_column_from_header(row):\n",
    "    \"\"\"\n",
    "    This function returns the landing status from the HTML table cell \n",
    "    Input: the  element of a table data cell extracts extra row\n",
    "    \"\"\"\n",
    "    if (row.br):\n",
    "        row.br.extract()\n",
    "    if row.a:\n",
    "        row.a.extract()\n",
    "    if row.sup:\n",
    "        row.sup.extract()\n",
    "        \n",
    "    colunm_name = ' '.join(row.contents)\n",
    "    \n",
    "    # Filter the digit and empty names\n",
    "    if not(colunm_name.strip().isdigit()):\n",
    "        colunm_name = colunm_name.strip()\n",
    "        return colunm_name    \n"
   ]
  },
  {
   "cell_type": "markdown",
   "metadata": {},
   "source": [
    "To keep the lab tasks consistent, you will be asked to scrape the data from a snapshot of the  `List of Falcon 9 and Falcon Heavy launches` Wikipage updated on\n",
    "`9th June 2021`\n"
   ]
  },
  {
   "cell_type": "code",
   "execution_count": 4,
   "metadata": {
    "tags": []
   },
   "outputs": [],
   "source": [
    "static_url = \"https://en.wikipedia.org/w/index.php?title=List_of_Falcon_9_and_Falcon_Heavy_launches&oldid=1027686922\""
   ]
  },
  {
   "cell_type": "markdown",
   "metadata": {},
   "source": [
    "Next, request the HTML page from the above URL and get a `response` object\n"
   ]
  },
  {
   "cell_type": "markdown",
   "metadata": {},
   "source": [
    "### TASK 1: Request the Falcon9 Launch Wiki page from its URL\n"
   ]
  },
  {
   "cell_type": "markdown",
   "metadata": {},
   "source": [
    "First, let's perform an HTTP GET method to request the Falcon9 Launch HTML page, as an HTTP response.\n"
   ]
  },
  {
   "cell_type": "code",
   "execution_count": 8,
   "metadata": {
    "tags": []
   },
   "outputs": [],
   "source": [
    "# use requests.get() method with the provided static_url\n",
    "# assign the response to a object\n",
    "response = requests.get(static_url).text\n",
    "#print(response)"
   ]
  },
  {
   "cell_type": "markdown",
   "metadata": {},
   "source": [
    "Create a `BeautifulSoup` object from the HTML `response`\n"
   ]
  },
  {
   "cell_type": "code",
   "execution_count": 9,
   "metadata": {
    "tags": []
   },
   "outputs": [],
   "source": [
    "# Use BeautifulSoup() to create a BeautifulSoup object from a response text content\n",
    "soup = BeautifulSoup(response, 'html.parser')"
   ]
  },
  {
   "cell_type": "markdown",
   "metadata": {},
   "source": [
    "Print the page title to verify if the `BeautifulSoup` object was created properly \n"
   ]
  },
  {
   "cell_type": "code",
   "execution_count": 10,
   "metadata": {
    "tags": []
   },
   "outputs": [
    {
     "name": "stdout",
     "output_type": "stream",
     "text": [
      "<title>List of Falcon 9 and Falcon Heavy launches - Wikipedia</title>\n"
     ]
    }
   ],
   "source": [
    "print(soup.title)\n",
    "# Use soup.title attribute"
   ]
  },
  {
   "cell_type": "markdown",
   "metadata": {},
   "source": [
    "### TASK 2: Extract all column/variable names from the HTML table header\n"
   ]
  },
  {
   "cell_type": "markdown",
   "metadata": {},
   "source": [
    "Next, we want to collect all relevant column names from the HTML table header\n"
   ]
  },
  {
   "cell_type": "markdown",
   "metadata": {},
   "source": [
    "Let's try to find all tables on the wiki page first. If you need to refresh your memory about `BeautifulSoup`, please check the external reference link towards the end of this lab\n"
   ]
  },
  {
   "cell_type": "code",
   "execution_count": 13,
   "metadata": {
    "tags": []
   },
   "outputs": [],
   "source": [
    "# Use the find_all function in the BeautifulSoup object, with element type `table`\n",
    "# Assign the result to a list called `html_tables`\n",
    "html_tables = soup.find_all('table')"
   ]
  },
  {
   "cell_type": "markdown",
   "metadata": {},
   "source": [
    "Starting from the third table is our target table contains the actual launch records.\n"
   ]
  },
  {
   "cell_type": "code",
   "execution_count": 15,
   "metadata": {
    "tags": []
   },
   "outputs": [],
   "source": [
    "# Let's print the third table and check its content\n",
    "first_launch_table = html_tables[2]\n",
    "#print(first_launch_table)"
   ]
  },
  {
   "cell_type": "markdown",
   "metadata": {},
   "source": [
    "You should able to see the columns names embedded in the table header elements `<th>` as follows:\n"
   ]
  },
  {
   "cell_type": "markdown",
   "metadata": {},
   "source": [
    "```\n",
    "<tr>\n",
    "<th scope=\"col\">Flight No.\n",
    "</th>\n",
    "<th scope=\"col\">Date and<br/>time (<a href=\"/wiki/Coordinated_Universal_Time\" title=\"Coordinated Universal Time\">UTC</a>)\n",
    "</th>\n",
    "<th scope=\"col\"><a href=\"/wiki/List_of_Falcon_9_first-stage_boosters\" title=\"List of Falcon 9 first-stage boosters\">Version,<br/>Booster</a> <sup class=\"reference\" id=\"cite_ref-booster_11-0\"><a href=\"#cite_note-booster-11\">[b]</a></sup>\n",
    "</th>\n",
    "<th scope=\"col\">Launch site\n",
    "</th>\n",
    "<th scope=\"col\">Payload<sup class=\"reference\" id=\"cite_ref-Dragon_12-0\"><a href=\"#cite_note-Dragon-12\">[c]</a></sup>\n",
    "</th>\n",
    "<th scope=\"col\">Payload mass\n",
    "</th>\n",
    "<th scope=\"col\">Orbit\n",
    "</th>\n",
    "<th scope=\"col\">Customer\n",
    "</th>\n",
    "<th scope=\"col\">Launch<br/>outcome\n",
    "</th>\n",
    "<th scope=\"col\"><a href=\"/wiki/Falcon_9_first-stage_landing_tests\" title=\"Falcon 9 first-stage landing tests\">Booster<br/>landing</a>\n",
    "</th></tr>\n",
    "```\n"
   ]
  },
  {
   "cell_type": "markdown",
   "metadata": {},
   "source": [
    "Next, we just need to iterate through the `<th>` elements and apply the provided `extract_column_from_header()` to extract column name one by one\n"
   ]
  },
  {
   "cell_type": "code",
   "execution_count": 19,
   "metadata": {
    "tags": []
   },
   "outputs": [],
   "source": [
    "column_names = []\n",
    "\n",
    "# Apply find_all() function with `th` element on first_launch_table\n",
    "# Iterate each th element and apply the provided extract_column_from_header() to get a column name\n",
    "# Append the Non-empty column name (`if name is not None and len(name) > 0`) into a list called column_names\n",
    "for row in first_launch_table.find_all('th'):\n",
    "    colname = extract_column_from_header(row)\n",
    "    if ((colname is not None) and (len(colname)>0)):\n",
    "        column_names += [colname]"
   ]
  },
  {
   "cell_type": "markdown",
   "metadata": {},
   "source": [
    "Check the extracted column names\n"
   ]
  },
  {
   "cell_type": "code",
   "execution_count": 20,
   "metadata": {
    "tags": []
   },
   "outputs": [
    {
     "name": "stdout",
     "output_type": "stream",
     "text": [
      "['Flight No.', 'Date and time ( )', 'Launch site', 'Payload', 'Payload mass', 'Orbit', 'Customer', 'Launch outcome']\n"
     ]
    }
   ],
   "source": [
    "print(column_names)"
   ]
  },
  {
   "cell_type": "markdown",
   "metadata": {},
   "source": [
    "## TASK 3: Create a data frame by parsing the launch HTML tables\n"
   ]
  },
  {
   "cell_type": "markdown",
   "metadata": {},
   "source": [
    "We will create an empty dictionary with keys from the extracted column names in the previous task. Later, this dictionary will be converted into a Pandas dataframe\n"
   ]
  },
  {
   "cell_type": "code",
   "execution_count": 31,
   "metadata": {
    "tags": []
   },
   "outputs": [],
   "source": [
    "launch_dict= dict.fromkeys(column_names)\n",
    "\n",
    "# Remove an irrelvant column\n",
    "del launch_dict['Date and time ( )']\n",
    "\n",
    "# Let's initial the launch_dict with each value to be an empty list\n",
    "launch_dict['Flight No.'] = []\n",
    "launch_dict['Launch site'] = []\n",
    "launch_dict['Payload'] = []\n",
    "launch_dict['Payload mass'] = []\n",
    "launch_dict['Orbit'] = []\n",
    "launch_dict['Customer'] = []\n",
    "launch_dict['Launch outcome'] = []\n",
    "# Added some new columns\n",
    "launch_dict['Version Booster']=[]\n",
    "launch_dict['Booster landing']=[]\n",
    "launch_dict['Date']=[]\n",
    "launch_dict['Time']=[]\n",
    "launch_dict['Launch Site']=[]\n",
    "launch_dict['Booster Landing']=[]"
   ]
  },
  {
   "cell_type": "markdown",
   "metadata": {},
   "source": [
    "Next, we just need to fill up the `launch_dict` with launch records extracted from table rows.\n"
   ]
  },
  {
   "cell_type": "markdown",
   "metadata": {},
   "source": [
    "Usually, HTML tables in Wiki pages are likely to contain unexpected annotations and other types of noises, such as reference links `B0004.1[8]`, missing values `N/A [e]`, inconsistent formatting, etc.\n"
   ]
  },
  {
   "cell_type": "markdown",
   "metadata": {},
   "source": [
    "To simplify the parsing process, we have provided an incomplete code snippet below to help you to fill up the `launch_dict`. Please complete the following code snippet with TODOs or you can choose to write your own logic to parse all launch tables:\n"
   ]
  },
  {
   "cell_type": "code",
   "execution_count": 38,
   "metadata": {
    "tags": []
   },
   "outputs": [
    {
     "data": {
      "text/plain": [
       "['SpaceX',\n",
       " 'NASA',\n",
       " 'NASA',\n",
       " 'NASA',\n",
       " 'NASA',\n",
       " 'MDA',\n",
       " 'SES',\n",
       " 'Thaicom',\n",
       " 'NASA',\n",
       " 'Orbcomm',\n",
       " 'AsiaSat',\n",
       " 'AsiaSat',\n",
       " 'NASA',\n",
       " 'NASA',\n",
       " 'USAF',\n",
       " 'ABS',\n",
       " 'NASA',\n",
       " None,\n",
       " 'NASA',\n",
       " 'Orbcomm',\n",
       " 'NASA',\n",
       " 'SES',\n",
       " 'NASA',\n",
       " 'SKY Perfect JSAT Group',\n",
       " 'Thaicom',\n",
       " 'ABS',\n",
       " 'NASA',\n",
       " 'SKY Perfect JSAT Group',\n",
       " 'Iridium Communications',\n",
       " 'NASA',\n",
       " 'EchoStar',\n",
       " 'SES',\n",
       " 'NRO',\n",
       " 'Inmarsat',\n",
       " 'NASA',\n",
       " 'Bulsatcom',\n",
       " 'Iridium Communications',\n",
       " 'Intelsat',\n",
       " 'NASA',\n",
       " 'NSPO',\n",
       " 'USAF',\n",
       " 'Iridium Communications',\n",
       " 'SES S.A.',\n",
       " 'KT Corporation',\n",
       " 'NASA',\n",
       " 'Iridium Communications',\n",
       " 'Northrop Grumman',\n",
       " 'SES',\n",
       " 'Hisdesat',\n",
       " 'Hispasat',\n",
       " 'Iridium Communications',\n",
       " 'NASA',\n",
       " 'NASA',\n",
       " 'Thales-Alenia',\n",
       " 'Iridium Communications',\n",
       " 'SES',\n",
       " 'NASA',\n",
       " 'Telesat',\n",
       " 'Iridium Communications',\n",
       " 'Telkom Indonesia',\n",
       " 'Telesat',\n",
       " 'CONAE',\n",
       " \"Es'hailSat\",\n",
       " 'Spaceflight Industries',\n",
       " 'NASA',\n",
       " 'USAF',\n",
       " 'Iridium Communications',\n",
       " 'PSN',\n",
       " 'NASA',\n",
       " 'NASA',\n",
       " 'SpaceX',\n",
       " 'Canadian Space Agency',\n",
       " 'NASA',\n",
       " 'Spacecom',\n",
       " 'SpaceX',\n",
       " 'NASA',\n",
       " 'Sky Perfect JSAT',\n",
       " 'SpaceX',\n",
       " 'NASA',\n",
       " 'SpaceX',\n",
       " 'SpaceX',\n",
       " 'NASA',\n",
       " 'SpaceX',\n",
       " 'SpaceX',\n",
       " 'NASA',\n",
       " 'SpaceX',\n",
       " 'SpaceX',\n",
       " 'U.S. Space Force',\n",
       " 'Republic of Korea Army',\n",
       " 'SpaceX',\n",
       " 'SpaceX',\n",
       " 'CONAE',\n",
       " 'SpaceX',\n",
       " 'SpaceX',\n",
       " 'SpaceX',\n",
       " 'SpaceX',\n",
       " 'USSF',\n",
       " 'NASA',\n",
       " 'NASA',\n",
       " 'SpaceX',\n",
       " 'NASA',\n",
       " 'Sirius XM',\n",
       " 'NRO',\n",
       " 'Türksat',\n",
       " 'SpaceX']"
      ]
     },
     "execution_count": 38,
     "metadata": {},
     "output_type": "execute_result"
    }
   ],
   "source": [
    "launch_dict['Customer']"
   ]
  },
  {
   "cell_type": "code",
   "execution_count": 39,
   "metadata": {
    "tags": []
   },
   "outputs": [
    {
     "name": "stdout",
     "output_type": "stream",
     "text": [
      "F9 v1.0B0003.1\n",
      "F9 v1.0B0004.1\n",
      "F9 v1.0B0005.1\n",
      "F9 v1.0B0006.1\n",
      "F9 v1.0B0007.1\n",
      "F9 v1.1B1003\n",
      "F9 v1.1\n",
      "F9 v1.1\n",
      "F9 v1.1\n",
      "F9 v1.1\n",
      "F9 v1.1\n",
      "F9 v1.1\n",
      "F9 v1.1\n",
      "F9 v1.1\n",
      "F9 v1.1\n",
      "F9 v1.1\n",
      "F9 v1.1\n",
      "F9 v1.1\n",
      "F9 v1.1\n",
      "F9 FT\n",
      "F9 v1.1\n",
      "F9 FT\n",
      "F9 FT\n",
      "F9 FT\n",
      "F9 FT\n",
      "F9 FT\n",
      "F9 FT\n",
      "F9 FT\n",
      "F9 FT\n",
      "F9 FT\n",
      "F9 FT\n",
      "F9 FT♺\n",
      "F9 FT\n",
      "F9 FT\n",
      "F9 FT\n",
      "F9 FTB1029.2\n",
      "F9 FT\n",
      "F9 FT\n",
      "F9 B4\n",
      "F9 FT\n",
      "F9 B4\n",
      "F9 B4\n",
      "F9 FTB1031.2\n",
      "F9 B4\n",
      "F9 FTB1035.2\n",
      "F9 FTB1036.2\n",
      "F9 B4\n",
      "F9 FTB1032.2\n",
      "F9 FTB1038.2\n",
      "F9 B4\n",
      "F9 B4B1041.2\n",
      "F9 B4B1039.2\n",
      "F9 B4\n",
      "F9 B5B1046.1\n",
      "F9 B4B1043.2\n",
      "F9 B4B1040.2\n",
      "F9 B4B1045.2\n",
      "F9 B5\n",
      "F9 B5B1048\n",
      "F9 B5B1046.2\n",
      "F9 B5\n",
      "F9 B5B1048.2\n",
      "F9 B5B1047.2\n",
      "F9 B5B1046.3\n",
      "F9 B5\n",
      "F9 B5\n",
      "F9 B5B1049.2\n",
      "F9 B5B1048.3\n",
      "F9 B5[268]\n",
      "F9 B5\n",
      "F9 B5B1049.3\n",
      "F9 B5B1051.2\n",
      "F9 B5B1056.2\n",
      "F9 B5B1047.3\n",
      "F9 B5\n",
      "F9 B5\n",
      "F9 B5B1056.3\n",
      "F9 B5\n",
      "F9 B5\n",
      "F9 B5\n",
      "F9 B5\n",
      "F9 B5\n",
      "F9 B5\n",
      "F9 B5\n",
      "F9 B5\n",
      "F9 B5\n",
      "F9 B5\n",
      "F9 B5\n",
      "F9 B5B1058.2\n",
      "F9 B5\n",
      "F9 B5B1049.6\n",
      "F9 B5\n",
      "F9 B5B1060.2\n",
      "F9 B5B1058.3\n",
      "F9 B5B1051.6\n",
      "F9 B5\n",
      "F9 B5\n",
      "F9 B5\n",
      "F9 B5\n",
      "F9 B5 ♺\n",
      "F9 B5 ♺\n",
      "F9 B5 ♺\n",
      "F9 B5 ♺\n",
      "F9 B5\n",
      "F9 B5B1051.8\n",
      "F9 B5B1058.5\n",
      "F9 B5 ♺\n",
      "F9 B5 ♺\n",
      "F9 B5 ♺\n",
      "F9 B5 ♺\n",
      "F9 B5 ♺\n",
      "F9 B5B1060.6\n",
      "F9 B5 ♺\n",
      "F9 B5B1061.2\n",
      "F9 B5B1060.7\n",
      "F9 B5B1049.9\n",
      "F9 B5B1051.10\n",
      "F9 B5B1058.8\n",
      "F9 B5B1063.2\n",
      "F9 B5B1067.1\n",
      "F9 B5\n"
     ]
    }
   ],
   "source": [
    "extracted_row = 0\n",
    "#Extract each table \n",
    "for table_number,table in enumerate(soup.find_all('table',\"wikitable plainrowheaders collapsible\")):\n",
    "   # get table row \n",
    "    for rows in table.find_all(\"tr\"):\n",
    "        #check to see if first table heading is as number corresponding to launch a number \n",
    "        if rows.th:\n",
    "            if rows.th.string:\n",
    "                flight_number=rows.th.string.strip()\n",
    "                flag=flight_number.isdigit()\n",
    "        else:\n",
    "            flag=False\n",
    "        #get table element \n",
    "        row=rows.find_all('td')\n",
    "        #if it is number save cells in a dictonary \n",
    "        if flag:\n",
    "            extracted_row += 1\n",
    "            # Flight Number value\n",
    "            # TODO: Append the flight_number into launch_dict with key `Flight No.`\n",
    "            #print(flight_number)\n",
    "            launch_dict[\"Flight No.\"].append(flight_number)\n",
    "            datatimelist=date_time(row[0])\n",
    "            \n",
    "            # Date value\n",
    "            # TODO: Append the date into launch_dict with key `Date`\n",
    "            date = datatimelist[0].strip(',')\n",
    "            launch_dict['Date'].append(date)\n",
    "            #print(date)\n",
    "            \n",
    "            # Time value\n",
    "            # TODO: Append the time into launch_dict with key `Time`\n",
    "            time = datatimelist[1]\n",
    "            launch_dict['Time'].append(time)\n",
    "            #print(time)\n",
    "              \n",
    "            # Booster version\n",
    "            # TODO: Append the bv into launch_dict with key `Version Booster`\n",
    "            bv=booster_version(row[1])\n",
    "            if not(bv):\n",
    "                bv=row[1].a.string\n",
    "            print(bv)\n",
    "            launch_dict['Version Booster'].append(bv)\n",
    "            \n",
    "            # Launch Site\n",
    "            # TODO: Append the bv into launch_dict with key `Launch Site`\n",
    "            launch_site = row[2].a.string\n",
    "            launch_dict['Launch Site'].append(launch_site)\n",
    "            #print(launch_site)\n",
    "            \n",
    "            # Payload\n",
    "            # TODO: Append the payload into launch_dict with key `Payload`\n",
    "            payload = row[3].a.string\n",
    "            launch_dict['Payload'].append(payload)\n",
    "            #print(payload)\n",
    "            \n",
    "            # Payload Mass\n",
    "            # TODO: Append the payload_mass into launch_dict with key `Payload mass`\n",
    "            payload_mass = get_mass(row[4])\n",
    "            launch_dict['Payload mass'].append(payload_mass)\n",
    "            #print(payload)\n",
    "            \n",
    "            # Orbit\n",
    "            # TODO: Append the orbit into launch_dict with key `Orbit`\n",
    "            orbit = row[5].a.string\n",
    "            launch_dict['Orbit'].append(orbit)\n",
    "            #print(orbit)\n",
    "            \n",
    "            # Customer\n",
    "            # TODO: Append the customer into launch_dict with key `Customer`\n",
    "            customer = ''\n",
    "            if (row[6].a is None):\n",
    "                customer = 'None'\n",
    "            else:\n",
    "                customer = row[6].a.string\n",
    "            launch_dict['Customer'].append(customer)\n",
    "            #print(customer)\n",
    "            \n",
    "            # Launch outcome\n",
    "            # TODO: Append the launch_outcome into launch_dict with key `Launch outcome`\n",
    "            launch_outcome = list(row[7].strings)[0]\n",
    "            launch_dict['Launch outcome'].append(launch_outcome)\n",
    "            #print(launch_outcome)\n",
    "            \n",
    "            # Booster landing\n",
    "            # TODO: Append the launch_outcome into launch_dict with key `Booster landing`\n",
    "            booster_landing = landing_status(row[8])\n",
    "            launch_dict['Booster Landing'].append(launch_outcome)\n",
    "            #print(booster_landing)\n",
    "            "
   ]
  },
  {
   "cell_type": "markdown",
   "metadata": {},
   "source": [
    "After you have fill in the parsed launch record values into `launch_dict`, you can create a dataframe from it.\n"
   ]
  },
  {
   "cell_type": "code",
   "execution_count": 40,
   "metadata": {
    "tags": []
   },
   "outputs": [
    {
     "name": "stderr",
     "output_type": "stream",
     "text": [
      "/home/jupyterlab/conda/envs/python/lib/python3.7/site-packages/ipykernel_launcher.py:1: DeprecationWarning: The default dtype for empty Series will be 'object' instead of 'float64' in a future version. Specify a dtype explicitly to silence this warning.\n",
      "  \"\"\"Entry point for launching an IPython kernel.\n"
     ]
    }
   ],
   "source": [
    "df= pd.DataFrame({ key:pd.Series(value) for key, value in launch_dict.items() })"
   ]
  },
  {
   "cell_type": "code",
   "execution_count": 46,
   "metadata": {
    "tags": []
   },
   "outputs": [
    {
     "data": {
      "text/html": [
       "<div>\n",
       "<style scoped>\n",
       "    .dataframe tbody tr th:only-of-type {\n",
       "        vertical-align: middle;\n",
       "    }\n",
       "\n",
       "    .dataframe tbody tr th {\n",
       "        vertical-align: top;\n",
       "    }\n",
       "\n",
       "    .dataframe thead th {\n",
       "        text-align: right;\n",
       "    }\n",
       "</style>\n",
       "<table border=\"1\" class=\"dataframe\">\n",
       "  <thead>\n",
       "    <tr style=\"text-align: right;\">\n",
       "      <th></th>\n",
       "      <th>Flight No.</th>\n",
       "      <th>Launch site</th>\n",
       "      <th>Payload</th>\n",
       "      <th>Payload mass</th>\n",
       "      <th>Orbit</th>\n",
       "      <th>Customer</th>\n",
       "      <th>Launch outcome</th>\n",
       "      <th>Version Booster</th>\n",
       "      <th>Booster landing</th>\n",
       "      <th>Date</th>\n",
       "      <th>Time</th>\n",
       "      <th>Launch Site</th>\n",
       "      <th>Booster Landing</th>\n",
       "    </tr>\n",
       "  </thead>\n",
       "  <tbody>\n",
       "    <tr>\n",
       "      <th>0</th>\n",
       "      <td>1</td>\n",
       "      <td>NaN</td>\n",
       "      <td>Dragon Spacecraft Qualification Unit</td>\n",
       "      <td>0</td>\n",
       "      <td>LEO</td>\n",
       "      <td>SpaceX</td>\n",
       "      <td>Success\\n</td>\n",
       "      <td>F9 v1.0B0003.1</td>\n",
       "      <td>NaN</td>\n",
       "      <td>4 June 2010</td>\n",
       "      <td>18:45</td>\n",
       "      <td>CCAFS</td>\n",
       "      <td>Success</td>\n",
       "    </tr>\n",
       "    <tr>\n",
       "      <th>1</th>\n",
       "      <td>2</td>\n",
       "      <td>NaN</td>\n",
       "      <td>Dragon</td>\n",
       "      <td>0</td>\n",
       "      <td>LEO</td>\n",
       "      <td>NASA</td>\n",
       "      <td>Success</td>\n",
       "      <td>F9 v1.0B0004.1</td>\n",
       "      <td>NaN</td>\n",
       "      <td>8 December 2010</td>\n",
       "      <td>15:43</td>\n",
       "      <td>CCAFS</td>\n",
       "      <td>Success</td>\n",
       "    </tr>\n",
       "    <tr>\n",
       "      <th>2</th>\n",
       "      <td>3</td>\n",
       "      <td>NaN</td>\n",
       "      <td>Dragon</td>\n",
       "      <td>525 kg</td>\n",
       "      <td>LEO</td>\n",
       "      <td>NASA</td>\n",
       "      <td>Success</td>\n",
       "      <td>F9 v1.0B0005.1</td>\n",
       "      <td>NaN</td>\n",
       "      <td>22 May 2012</td>\n",
       "      <td>07:44</td>\n",
       "      <td>CCAFS</td>\n",
       "      <td>Success</td>\n",
       "    </tr>\n",
       "    <tr>\n",
       "      <th>3</th>\n",
       "      <td>4</td>\n",
       "      <td>NaN</td>\n",
       "      <td>SpaceX CRS-1</td>\n",
       "      <td>4,700 kg</td>\n",
       "      <td>LEO</td>\n",
       "      <td>NASA</td>\n",
       "      <td>Success\\n</td>\n",
       "      <td>F9 v1.0B0006.1</td>\n",
       "      <td>NaN</td>\n",
       "      <td>8 October 2012</td>\n",
       "      <td>00:35</td>\n",
       "      <td>CCAFS</td>\n",
       "      <td>Success</td>\n",
       "    </tr>\n",
       "    <tr>\n",
       "      <th>4</th>\n",
       "      <td>5</td>\n",
       "      <td>NaN</td>\n",
       "      <td>SpaceX CRS-2</td>\n",
       "      <td>4,877 kg</td>\n",
       "      <td>LEO</td>\n",
       "      <td>NASA</td>\n",
       "      <td>Success\\n</td>\n",
       "      <td>F9 v1.0B0007.1</td>\n",
       "      <td>NaN</td>\n",
       "      <td>1 March 2013</td>\n",
       "      <td>15:10</td>\n",
       "      <td>CCAFS</td>\n",
       "      <td>Success</td>\n",
       "    </tr>\n",
       "    <tr>\n",
       "      <th>5</th>\n",
       "      <td>6</td>\n",
       "      <td>NaN</td>\n",
       "      <td>CASSIOPE</td>\n",
       "      <td>500 kg</td>\n",
       "      <td>Polar orbit</td>\n",
       "      <td>MDA</td>\n",
       "      <td>Success</td>\n",
       "      <td>F9 v1.1B1003</td>\n",
       "      <td>NaN</td>\n",
       "      <td>29 September 2013</td>\n",
       "      <td>16:00</td>\n",
       "      <td>VAFB</td>\n",
       "      <td>Success</td>\n",
       "    </tr>\n",
       "    <tr>\n",
       "      <th>6</th>\n",
       "      <td>7</td>\n",
       "      <td>NaN</td>\n",
       "      <td>SES-8</td>\n",
       "      <td>3,170 kg</td>\n",
       "      <td>GTO</td>\n",
       "      <td>SES</td>\n",
       "      <td>Success</td>\n",
       "      <td>F9 v1.1</td>\n",
       "      <td>NaN</td>\n",
       "      <td>3 December 2013</td>\n",
       "      <td>22:41</td>\n",
       "      <td>CCAFS</td>\n",
       "      <td>Success</td>\n",
       "    </tr>\n",
       "    <tr>\n",
       "      <th>7</th>\n",
       "      <td>8</td>\n",
       "      <td>NaN</td>\n",
       "      <td>Thaicom 6</td>\n",
       "      <td>3,325 kg</td>\n",
       "      <td>GTO</td>\n",
       "      <td>Thaicom</td>\n",
       "      <td>Success</td>\n",
       "      <td>F9 v1.1</td>\n",
       "      <td>NaN</td>\n",
       "      <td>6 January 2014</td>\n",
       "      <td>22:06</td>\n",
       "      <td>CCAFS</td>\n",
       "      <td>Success</td>\n",
       "    </tr>\n",
       "    <tr>\n",
       "      <th>8</th>\n",
       "      <td>9</td>\n",
       "      <td>NaN</td>\n",
       "      <td>SpaceX CRS-3</td>\n",
       "      <td>2,296 kg</td>\n",
       "      <td>LEO</td>\n",
       "      <td>NASA</td>\n",
       "      <td>Success\\n</td>\n",
       "      <td>F9 v1.1</td>\n",
       "      <td>NaN</td>\n",
       "      <td>18 April 2014</td>\n",
       "      <td>19:25</td>\n",
       "      <td>Cape Canaveral</td>\n",
       "      <td>Success</td>\n",
       "    </tr>\n",
       "    <tr>\n",
       "      <th>9</th>\n",
       "      <td>10</td>\n",
       "      <td>NaN</td>\n",
       "      <td>Orbcomm-OG2</td>\n",
       "      <td>1,316 kg</td>\n",
       "      <td>LEO</td>\n",
       "      <td>Orbcomm</td>\n",
       "      <td>Success</td>\n",
       "      <td>F9 v1.1</td>\n",
       "      <td>NaN</td>\n",
       "      <td>14 July 2014</td>\n",
       "      <td>15:15</td>\n",
       "      <td>Cape Canaveral</td>\n",
       "      <td>Success</td>\n",
       "    </tr>\n",
       "    <tr>\n",
       "      <th>10</th>\n",
       "      <td>11</td>\n",
       "      <td>NaN</td>\n",
       "      <td>AsiaSat 8</td>\n",
       "      <td>4,535 kg</td>\n",
       "      <td>GTO</td>\n",
       "      <td>AsiaSat</td>\n",
       "      <td>Success</td>\n",
       "      <td>F9 v1.1</td>\n",
       "      <td>NaN</td>\n",
       "      <td>5 August 2014</td>\n",
       "      <td>08:00</td>\n",
       "      <td>Cape Canaveral</td>\n",
       "      <td>Success</td>\n",
       "    </tr>\n",
       "    <tr>\n",
       "      <th>11</th>\n",
       "      <td>12</td>\n",
       "      <td>NaN</td>\n",
       "      <td>AsiaSat 6</td>\n",
       "      <td>4,428 kg</td>\n",
       "      <td>GTO</td>\n",
       "      <td>AsiaSat</td>\n",
       "      <td>Success</td>\n",
       "      <td>F9 v1.1</td>\n",
       "      <td>NaN</td>\n",
       "      <td>7 September 2014</td>\n",
       "      <td>05:00</td>\n",
       "      <td>Cape Canaveral</td>\n",
       "      <td>Success</td>\n",
       "    </tr>\n",
       "    <tr>\n",
       "      <th>12</th>\n",
       "      <td>13</td>\n",
       "      <td>NaN</td>\n",
       "      <td>SpaceX CRS-4</td>\n",
       "      <td>2,216 kg</td>\n",
       "      <td>LEO</td>\n",
       "      <td>NASA</td>\n",
       "      <td>Success</td>\n",
       "      <td>F9 v1.1</td>\n",
       "      <td>NaN</td>\n",
       "      <td>21 September 2014</td>\n",
       "      <td>05:52</td>\n",
       "      <td>Cape Canaveral</td>\n",
       "      <td>Success</td>\n",
       "    </tr>\n",
       "    <tr>\n",
       "      <th>13</th>\n",
       "      <td>14</td>\n",
       "      <td>NaN</td>\n",
       "      <td>SpaceX CRS-5</td>\n",
       "      <td>2,395 kg</td>\n",
       "      <td>LEO</td>\n",
       "      <td>NASA</td>\n",
       "      <td>Success</td>\n",
       "      <td>F9 v1.1</td>\n",
       "      <td>NaN</td>\n",
       "      <td>10 January 2015</td>\n",
       "      <td>09:47</td>\n",
       "      <td>Cape Canaveral</td>\n",
       "      <td>Success</td>\n",
       "    </tr>\n",
       "    <tr>\n",
       "      <th>14</th>\n",
       "      <td>15</td>\n",
       "      <td>NaN</td>\n",
       "      <td>DSCOVR</td>\n",
       "      <td>570 kg</td>\n",
       "      <td>HEO</td>\n",
       "      <td>USAF</td>\n",
       "      <td>Success\\n</td>\n",
       "      <td>F9 v1.1</td>\n",
       "      <td>NaN</td>\n",
       "      <td>11 February 2015</td>\n",
       "      <td>23:03</td>\n",
       "      <td>Cape Canaveral</td>\n",
       "      <td>Success</td>\n",
       "    </tr>\n",
       "    <tr>\n",
       "      <th>15</th>\n",
       "      <td>16</td>\n",
       "      <td>NaN</td>\n",
       "      <td>ABS-3A</td>\n",
       "      <td>4,159 kg</td>\n",
       "      <td>GTO</td>\n",
       "      <td>ABS</td>\n",
       "      <td>Success\\n</td>\n",
       "      <td>F9 v1.1</td>\n",
       "      <td>NaN</td>\n",
       "      <td>2 March 2015</td>\n",
       "      <td>03:50</td>\n",
       "      <td>Cape Canaveral</td>\n",
       "      <td>Success</td>\n",
       "    </tr>\n",
       "    <tr>\n",
       "      <th>16</th>\n",
       "      <td>17</td>\n",
       "      <td>NaN</td>\n",
       "      <td>SpaceX CRS-6</td>\n",
       "      <td>1,898 kg</td>\n",
       "      <td>LEO</td>\n",
       "      <td>NASA</td>\n",
       "      <td>Success\\n</td>\n",
       "      <td>F9 v1.1</td>\n",
       "      <td>NaN</td>\n",
       "      <td>14 April 2015</td>\n",
       "      <td>20:10</td>\n",
       "      <td>Cape Canaveral</td>\n",
       "      <td>Success</td>\n",
       "    </tr>\n",
       "    <tr>\n",
       "      <th>17</th>\n",
       "      <td>18</td>\n",
       "      <td>NaN</td>\n",
       "      <td>TürkmenÄlem 52°E / MonacoSAT</td>\n",
       "      <td>4,707 kg</td>\n",
       "      <td>GTO</td>\n",
       "      <td>None</td>\n",
       "      <td>Success\\n</td>\n",
       "      <td>F9 v1.1</td>\n",
       "      <td>NaN</td>\n",
       "      <td>27 April 2015</td>\n",
       "      <td>23:03</td>\n",
       "      <td>Cape Canaveral</td>\n",
       "      <td>Success</td>\n",
       "    </tr>\n",
       "    <tr>\n",
       "      <th>18</th>\n",
       "      <td>19</td>\n",
       "      <td>NaN</td>\n",
       "      <td>SpaceX CRS-7</td>\n",
       "      <td>1,952 kg</td>\n",
       "      <td>LEO</td>\n",
       "      <td>NASA</td>\n",
       "      <td>Failure</td>\n",
       "      <td>F9 v1.1</td>\n",
       "      <td>NaN</td>\n",
       "      <td>28 June 2015</td>\n",
       "      <td>14:21</td>\n",
       "      <td>Cape Canaveral</td>\n",
       "      <td>Failure</td>\n",
       "    </tr>\n",
       "    <tr>\n",
       "      <th>19</th>\n",
       "      <td>20</td>\n",
       "      <td>NaN</td>\n",
       "      <td>Orbcomm-OG2</td>\n",
       "      <td>2,034 kg</td>\n",
       "      <td>LEO</td>\n",
       "      <td>Orbcomm</td>\n",
       "      <td>Success\\n</td>\n",
       "      <td>F9 FT</td>\n",
       "      <td>NaN</td>\n",
       "      <td>22 December 2015</td>\n",
       "      <td>01:29</td>\n",
       "      <td>Cape Canaveral</td>\n",
       "      <td>Success</td>\n",
       "    </tr>\n",
       "    <tr>\n",
       "      <th>20</th>\n",
       "      <td>21</td>\n",
       "      <td>NaN</td>\n",
       "      <td>Jason-3</td>\n",
       "      <td>553 kg</td>\n",
       "      <td>LEO</td>\n",
       "      <td>NASA</td>\n",
       "      <td>Success\\n</td>\n",
       "      <td>F9 v1.1</td>\n",
       "      <td>NaN</td>\n",
       "      <td>17 January 2016</td>\n",
       "      <td>18:42</td>\n",
       "      <td>VAFB</td>\n",
       "      <td>Success</td>\n",
       "    </tr>\n",
       "    <tr>\n",
       "      <th>21</th>\n",
       "      <td>22</td>\n",
       "      <td>NaN</td>\n",
       "      <td>SES-9</td>\n",
       "      <td>5,271 kg</td>\n",
       "      <td>GTO</td>\n",
       "      <td>SES</td>\n",
       "      <td>Success\\n</td>\n",
       "      <td>F9 FT</td>\n",
       "      <td>NaN</td>\n",
       "      <td>4 March 2016</td>\n",
       "      <td>23:35</td>\n",
       "      <td>Cape Canaveral</td>\n",
       "      <td>Success</td>\n",
       "    </tr>\n",
       "    <tr>\n",
       "      <th>22</th>\n",
       "      <td>23</td>\n",
       "      <td>NaN</td>\n",
       "      <td>SpaceX CRS-8</td>\n",
       "      <td>3,136 kg</td>\n",
       "      <td>LEO</td>\n",
       "      <td>NASA</td>\n",
       "      <td>Success</td>\n",
       "      <td>F9 FT</td>\n",
       "      <td>NaN</td>\n",
       "      <td>8 April 2016</td>\n",
       "      <td>20:43</td>\n",
       "      <td>Cape Canaveral</td>\n",
       "      <td>Success</td>\n",
       "    </tr>\n",
       "    <tr>\n",
       "      <th>23</th>\n",
       "      <td>24</td>\n",
       "      <td>NaN</td>\n",
       "      <td>JCSAT-14</td>\n",
       "      <td>4,696 kg</td>\n",
       "      <td>GTO</td>\n",
       "      <td>SKY Perfect JSAT Group</td>\n",
       "      <td>Success\\n</td>\n",
       "      <td>F9 FT</td>\n",
       "      <td>NaN</td>\n",
       "      <td>6 May 2016</td>\n",
       "      <td>05:21</td>\n",
       "      <td>Cape Canaveral</td>\n",
       "      <td>Success</td>\n",
       "    </tr>\n",
       "    <tr>\n",
       "      <th>24</th>\n",
       "      <td>25</td>\n",
       "      <td>NaN</td>\n",
       "      <td>Thaicom 8</td>\n",
       "      <td>3,100 kg</td>\n",
       "      <td>GTO</td>\n",
       "      <td>Thaicom</td>\n",
       "      <td>Success\\n</td>\n",
       "      <td>F9 FT</td>\n",
       "      <td>NaN</td>\n",
       "      <td>27 May 2016</td>\n",
       "      <td>21:39</td>\n",
       "      <td>Cape Canaveral</td>\n",
       "      <td>Success</td>\n",
       "    </tr>\n",
       "    <tr>\n",
       "      <th>25</th>\n",
       "      <td>26</td>\n",
       "      <td>NaN</td>\n",
       "      <td>ABS-2A</td>\n",
       "      <td>3,600 kg</td>\n",
       "      <td>GTO</td>\n",
       "      <td>ABS</td>\n",
       "      <td>Success\\n</td>\n",
       "      <td>F9 FT</td>\n",
       "      <td>NaN</td>\n",
       "      <td>15 June 2016</td>\n",
       "      <td>14:29</td>\n",
       "      <td>Cape Canaveral</td>\n",
       "      <td>Success</td>\n",
       "    </tr>\n",
       "    <tr>\n",
       "      <th>26</th>\n",
       "      <td>27</td>\n",
       "      <td>NaN</td>\n",
       "      <td>SpaceX CRS-9</td>\n",
       "      <td>2,257 kg</td>\n",
       "      <td>LEO</td>\n",
       "      <td>NASA</td>\n",
       "      <td>Success\\n</td>\n",
       "      <td>F9 FT</td>\n",
       "      <td>NaN</td>\n",
       "      <td>18 July 2016</td>\n",
       "      <td>04:45</td>\n",
       "      <td>Cape Canaveral</td>\n",
       "      <td>Success</td>\n",
       "    </tr>\n",
       "    <tr>\n",
       "      <th>27</th>\n",
       "      <td>28</td>\n",
       "      <td>NaN</td>\n",
       "      <td>JCSAT-16</td>\n",
       "      <td>4,600 kg</td>\n",
       "      <td>GTO</td>\n",
       "      <td>SKY Perfect JSAT Group</td>\n",
       "      <td>Success\\n</td>\n",
       "      <td>F9 FT</td>\n",
       "      <td>NaN</td>\n",
       "      <td>14 August 2016</td>\n",
       "      <td>05:26</td>\n",
       "      <td>Cape Canaveral</td>\n",
       "      <td>Success</td>\n",
       "    </tr>\n",
       "    <tr>\n",
       "      <th>28</th>\n",
       "      <td>29</td>\n",
       "      <td>NaN</td>\n",
       "      <td>Iridium NEXT</td>\n",
       "      <td>9,600 kg</td>\n",
       "      <td>Polar</td>\n",
       "      <td>Iridium Communications</td>\n",
       "      <td>Success\\n</td>\n",
       "      <td>F9 FT</td>\n",
       "      <td>NaN</td>\n",
       "      <td>14 January 2017</td>\n",
       "      <td>17:54</td>\n",
       "      <td>VAFB</td>\n",
       "      <td>Success</td>\n",
       "    </tr>\n",
       "    <tr>\n",
       "      <th>29</th>\n",
       "      <td>30</td>\n",
       "      <td>NaN</td>\n",
       "      <td>SpaceX CRS-10</td>\n",
       "      <td>2,490 kg</td>\n",
       "      <td>LEO</td>\n",
       "      <td>NASA</td>\n",
       "      <td>Success\\n</td>\n",
       "      <td>F9 FT</td>\n",
       "      <td>NaN</td>\n",
       "      <td>19 February 2017</td>\n",
       "      <td>14:39</td>\n",
       "      <td>KSC</td>\n",
       "      <td>Success</td>\n",
       "    </tr>\n",
       "  </tbody>\n",
       "</table>\n",
       "</div>"
      ],
      "text/plain": [
       "   Flight No.  Launch site                               Payload Payload mass  \\\n",
       "0           1          NaN  Dragon Spacecraft Qualification Unit            0   \n",
       "1           2          NaN                                Dragon            0   \n",
       "2           3          NaN                                Dragon       525 kg   \n",
       "3           4          NaN                          SpaceX CRS-1     4,700 kg   \n",
       "4           5          NaN                          SpaceX CRS-2     4,877 kg   \n",
       "5           6          NaN                              CASSIOPE       500 kg   \n",
       "6           7          NaN                                 SES-8     3,170 kg   \n",
       "7           8          NaN                             Thaicom 6     3,325 kg   \n",
       "8           9          NaN                          SpaceX CRS-3     2,296 kg   \n",
       "9          10          NaN                           Orbcomm-OG2     1,316 kg   \n",
       "10         11          NaN                             AsiaSat 8     4,535 kg   \n",
       "11         12          NaN                             AsiaSat 6     4,428 kg   \n",
       "12         13          NaN                          SpaceX CRS-4     2,216 kg   \n",
       "13         14          NaN                          SpaceX CRS-5     2,395 kg   \n",
       "14         15          NaN                                DSCOVR       570 kg   \n",
       "15         16          NaN                                ABS-3A     4,159 kg   \n",
       "16         17          NaN                          SpaceX CRS-6     1,898 kg   \n",
       "17         18          NaN          TürkmenÄlem 52°E / MonacoSAT     4,707 kg   \n",
       "18         19          NaN                          SpaceX CRS-7     1,952 kg   \n",
       "19         20          NaN                           Orbcomm-OG2     2,034 kg   \n",
       "20         21          NaN                               Jason-3       553 kg   \n",
       "21         22          NaN                                 SES-9     5,271 kg   \n",
       "22         23          NaN                          SpaceX CRS-8     3,136 kg   \n",
       "23         24          NaN                              JCSAT-14     4,696 kg   \n",
       "24         25          NaN                             Thaicom 8     3,100 kg   \n",
       "25         26          NaN                                ABS-2A     3,600 kg   \n",
       "26         27          NaN                          SpaceX CRS-9     2,257 kg   \n",
       "27         28          NaN                              JCSAT-16     4,600 kg   \n",
       "28         29          NaN                          Iridium NEXT     9,600 kg   \n",
       "29         30          NaN                         SpaceX CRS-10     2,490 kg   \n",
       "\n",
       "          Orbit                Customer Launch outcome Version Booster  \\\n",
       "0           LEO                  SpaceX      Success\\n  F9 v1.0B0003.1   \n",
       "1           LEO                    NASA        Success  F9 v1.0B0004.1   \n",
       "2           LEO                    NASA        Success  F9 v1.0B0005.1   \n",
       "3           LEO                    NASA      Success\\n  F9 v1.0B0006.1   \n",
       "4           LEO                    NASA      Success\\n  F9 v1.0B0007.1   \n",
       "5   Polar orbit                     MDA        Success    F9 v1.1B1003   \n",
       "6           GTO                     SES        Success         F9 v1.1   \n",
       "7           GTO                 Thaicom        Success         F9 v1.1   \n",
       "8           LEO                    NASA      Success\\n         F9 v1.1   \n",
       "9           LEO                 Orbcomm        Success         F9 v1.1   \n",
       "10          GTO                 AsiaSat        Success         F9 v1.1   \n",
       "11          GTO                 AsiaSat        Success         F9 v1.1   \n",
       "12          LEO                    NASA        Success         F9 v1.1   \n",
       "13          LEO                    NASA        Success         F9 v1.1   \n",
       "14          HEO                    USAF      Success\\n         F9 v1.1   \n",
       "15          GTO                     ABS      Success\\n         F9 v1.1   \n",
       "16          LEO                    NASA      Success\\n         F9 v1.1   \n",
       "17          GTO                    None      Success\\n         F9 v1.1   \n",
       "18          LEO                    NASA        Failure         F9 v1.1   \n",
       "19          LEO                 Orbcomm      Success\\n           F9 FT   \n",
       "20          LEO                    NASA      Success\\n         F9 v1.1   \n",
       "21          GTO                     SES      Success\\n           F9 FT   \n",
       "22          LEO                    NASA        Success           F9 FT   \n",
       "23          GTO  SKY Perfect JSAT Group      Success\\n           F9 FT   \n",
       "24          GTO                 Thaicom      Success\\n           F9 FT   \n",
       "25          GTO                     ABS      Success\\n           F9 FT   \n",
       "26          LEO                    NASA      Success\\n           F9 FT   \n",
       "27          GTO  SKY Perfect JSAT Group      Success\\n           F9 FT   \n",
       "28        Polar  Iridium Communications      Success\\n           F9 FT   \n",
       "29          LEO                    NASA      Success\\n           F9 FT   \n",
       "\n",
       "    Booster landing               Date   Time     Launch Site Booster Landing  \n",
       "0               NaN        4 June 2010  18:45           CCAFS         Success  \n",
       "1               NaN    8 December 2010  15:43           CCAFS         Success  \n",
       "2               NaN        22 May 2012  07:44           CCAFS         Success  \n",
       "3               NaN     8 October 2012  00:35           CCAFS         Success  \n",
       "4               NaN       1 March 2013  15:10           CCAFS         Success  \n",
       "5               NaN  29 September 2013  16:00            VAFB         Success  \n",
       "6               NaN    3 December 2013  22:41           CCAFS         Success  \n",
       "7               NaN     6 January 2014  22:06           CCAFS         Success  \n",
       "8               NaN      18 April 2014  19:25  Cape Canaveral         Success  \n",
       "9               NaN       14 July 2014  15:15  Cape Canaveral         Success  \n",
       "10              NaN      5 August 2014  08:00  Cape Canaveral         Success  \n",
       "11              NaN   7 September 2014  05:00  Cape Canaveral         Success  \n",
       "12              NaN  21 September 2014  05:52  Cape Canaveral         Success  \n",
       "13              NaN    10 January 2015  09:47  Cape Canaveral         Success  \n",
       "14              NaN   11 February 2015  23:03  Cape Canaveral         Success  \n",
       "15              NaN       2 March 2015  03:50  Cape Canaveral         Success  \n",
       "16              NaN      14 April 2015  20:10  Cape Canaveral         Success  \n",
       "17              NaN      27 April 2015  23:03  Cape Canaveral         Success  \n",
       "18              NaN       28 June 2015  14:21  Cape Canaveral         Failure  \n",
       "19              NaN   22 December 2015  01:29  Cape Canaveral         Success  \n",
       "20              NaN    17 January 2016  18:42            VAFB         Success  \n",
       "21              NaN       4 March 2016  23:35  Cape Canaveral         Success  \n",
       "22              NaN       8 April 2016  20:43  Cape Canaveral         Success  \n",
       "23              NaN         6 May 2016  05:21  Cape Canaveral         Success  \n",
       "24              NaN        27 May 2016  21:39  Cape Canaveral         Success  \n",
       "25              NaN       15 June 2016  14:29  Cape Canaveral         Success  \n",
       "26              NaN       18 July 2016  04:45  Cape Canaveral         Success  \n",
       "27              NaN     14 August 2016  05:26  Cape Canaveral         Success  \n",
       "28              NaN    14 January 2017  17:54            VAFB         Success  \n",
       "29              NaN   19 February 2017  14:39             KSC         Success  "
      ]
     },
     "execution_count": 46,
     "metadata": {},
     "output_type": "execute_result"
    }
   ],
   "source": [
    "df['Booster Landing'] = df['Booster Landing'].replace('Success\\n', 'Success')\n",
    "df.head(30)"
   ]
  },
  {
   "cell_type": "markdown",
   "metadata": {},
   "source": [
    "We can now export it to a <b>CSV</b> for the next section, but to make the answers consistent and in case you have difficulties finishing this lab. \n",
    "\n",
    "Following labs will be using a provided dataset to make each lab independent. \n"
   ]
  },
  {
   "cell_type": "markdown",
   "metadata": {},
   "source": [
    "<code>df.to_csv('spacex_web_scraped.csv', index=False)</code>\n"
   ]
  },
  {
   "cell_type": "code",
   "execution_count": 47,
   "metadata": {
    "tags": []
   },
   "outputs": [],
   "source": [
    "df.to_csv('spacex_web_scraped.csv', index=False)"
   ]
  },
  {
   "cell_type": "markdown",
   "metadata": {},
   "source": [
    "## Authors\n"
   ]
  },
  {
   "cell_type": "markdown",
   "metadata": {},
   "source": [
    "<a href=\"https://www.linkedin.com/in/yan-luo-96288783/\">Yan Luo</a>\n"
   ]
  },
  {
   "cell_type": "markdown",
   "metadata": {},
   "source": [
    "<a href=\"https://www.linkedin.com/in/nayefaboutayoun/\">Nayef Abou Tayoun</a>\n"
   ]
  },
  {
   "cell_type": "markdown",
   "metadata": {},
   "source": [
    "<!--\n",
    "## Change Log\n",
    "-->\n"
   ]
  },
  {
   "cell_type": "markdown",
   "metadata": {},
   "source": [
    "<!--\n",
    "| Date (YYYY-MM-DD) | Version | Changed By | Change Description      |\n",
    "| ----------------- | ------- | ---------- | ----------------------- |\n",
    "| 2021-06-09        | 1.0     | Yan Luo    | Tasks updates           |\n",
    "| 2020-11-10        | 1.0     | Nayef      | Created the initial version |\n",
    "-->\n"
   ]
  },
  {
   "cell_type": "markdown",
   "metadata": {},
   "source": [
    "Copyright © 2021 IBM Corporation. All rights reserved.\n"
   ]
  }
 ],
 "metadata": {
  "kernelspec": {
   "display_name": "Python",
   "language": "python",
   "name": "conda-env-python-py"
  },
  "language_info": {
   "codemirror_mode": {
    "name": "ipython",
    "version": 3
   },
   "file_extension": ".py",
   "mimetype": "text/x-python",
   "name": "python",
   "nbconvert_exporter": "python",
   "pygments_lexer": "ipython3",
   "version": "3.7.12"
  },
  "prev_pub_hash": "64f1b0aac408997185c47caba18730e0028b75e7934a0e5bf0ae73c5cb7ba677"
 },
 "nbformat": 4,
 "nbformat_minor": 4
}
